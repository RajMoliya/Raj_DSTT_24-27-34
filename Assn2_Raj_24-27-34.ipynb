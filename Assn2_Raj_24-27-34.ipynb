{
 "cells": [
  {
   "cell_type": "code",
   "execution_count": 1,
   "id": "de58b12e-cac0-4cc4-a99e-1a9de50c3b60",
   "metadata": {},
   "outputs": [],
   "source": [
    "# Raj Moliya\n",
    "# 24-27-34\n",
    "# M.Tech Data Science\n",
    "# DSTT Assignment 2"
   ]
  },
  {
   "cell_type": "markdown",
   "id": "010111a7",
   "metadata": {},
   "source": [
    "Q1\n",
    "a) Create a variable named var1 that stores an array of numbers from 0 to 30,\n",
    "inclusive. Print var1 and its shape. Hint : arange"
   ]
  },
  {
   "cell_type": "code",
   "execution_count": 3,
   "id": "5032ce61-2cb7-4b3d-a3d9-2e055fb903bc",
   "metadata": {},
   "outputs": [
    {
     "name": "stdout",
     "output_type": "stream",
     "text": [
      "var1: [ 0  1  2  3  4  5  6  7  8  9 10 11 12 13 14 15 16 17 18 19 20 21 22 23\n",
      " 24 25 26 27 28 29 30] \n",
      "Shape: (31,)\n"
     ]
    }
   ],
   "source": [
    "\n",
    "import numpy as np\n",
    "var1 = np.arange(31)\n",
    "print(f'var1: {var1} \\nShape: {var1.shape}')"
   ]
  },
  {
   "cell_type": "markdown",
   "id": "e660e1a6",
   "metadata": {},
   "source": [
    "Q1 b) Change var2 to a validly-shaped two-dimensional matrix and store it in a\n",
    "new variable called var2. Print var2 and its shape. Hint: Use the reshape function"
   ]
  },
  {
   "cell_type": "code",
   "execution_count": 4,
   "id": "80cbbdc6-788e-4d64-8bda-bf2c0f520a3b",
   "metadata": {},
   "outputs": [
    {
     "name": "stdout",
     "output_type": "stream",
     "text": [
      "var2: [[ 1  2  3  4  5  6]\n",
      " [ 7  8  9 10 11 12]\n",
      " [13 14 15 16 17 18]\n",
      " [19 20 21 22 23 24]\n",
      " [25 26 27 28 29 30]] \n",
      "Shape: (5, 6)\n"
     ]
    }
   ],
   "source": [
    "var2 = var1[1:].reshape(5,6)\n",
    "print(f'var2: {var2} \\nShape: {var2.shape}')"
   ]
  },
  {
   "cell_type": "markdown",
   "id": "8053dbb3",
   "metadata": {},
   "source": [
    "Q1 c) Create a third variable, var3 that reshapes it into a valid three-dimensional shape.\n",
    "Print var3 and its shape."
   ]
  },
  {
   "cell_type": "code",
   "execution_count": 5,
   "id": "af55af77-5b5e-4d70-bf2b-31199a30d559",
   "metadata": {},
   "outputs": [
    {
     "name": "stdout",
     "output_type": "stream",
     "text": [
      "var3: [[[ 1  2  3  4  5]\n",
      "  [ 6  7  8  9 10]\n",
      "  [11 12 13 14 15]]\n",
      "\n",
      " [[16 17 18 19 20]\n",
      "  [21 22 23 24 25]\n",
      "  [26 27 28 29 30]]] \n",
      "Shape: (2, 3, 5)\n"
     ]
    }
   ],
   "source": [
    "var3 = var1[1:].reshape(2,3,5)\n",
    "print(f'var3: {var3} \\nShape: {var3.shape}')"
   ]
  },
  {
   "cell_type": "markdown",
   "id": "6489d6af",
   "metadata": {},
   "source": [
    "Q1 d) Use two-dimensional array indexing to set the first value in the second row of var2\n",
    "to -1. Now look at var1 and var3. Did they change? Explain what’s\n",
    "going on. (Hint: does reshape return a view or a copy?)"
   ]
  },
  {
   "cell_type": "code",
   "execution_count": 6,
   "id": "7a61be18-0006-4b5f-b086-f2efe791be67",
   "metadata": {},
   "outputs": [
    {
     "name": "stdout",
     "output_type": "stream",
     "text": [
      "After Modifying var2 we get \n",
      "var1: [ 0  1  2  3  4  5  6 -1  8  9 10 11 12 13 14 15 16 17 18 19 20 21 22 23\n",
      " 24 25 26 27 28 29 30] \n",
      "var3:\n",
      "[[[ 1  2  3  4  5]\n",
      "  [ 6 -1  8  9 10]\n",
      "  [11 12 13 14 15]]\n",
      "\n",
      " [[16 17 18 19 20]\n",
      "  [21 22 23 24 25]\n",
      "  [26 27 28 29 30]]]\n"
     ]
    }
   ],
   "source": [
    "var2[1,0] = -1\n",
    "print(f'After Modifying var2 we get \\nvar1: {var1} \\nvar3:\\n{var3}')"
   ]
  },
  {
   "cell_type": "markdown",
   "id": "d15f47c3",
   "metadata": {},
   "source": [
    "Q1 e) Another thing that comes up a lot with array shapes is thinking about how to\n",
    "aggregate over specific dimensions. Figure out how the NumPy sum function\n",
    "works (and the axis argument in particular) and do the following:\n",
    "(i) Sum var3 over its second dimension and print the result.\n",
    "(ii) Sum var3 over its third dimension and print the result.\n",
    "(iii) Sum var3 over both its first and third dimensions and print the result."
   ]
  },
  {
   "cell_type": "code",
   "execution_count": 6,
   "id": "41154fbe-5365-4688-8e7e-6f565966bd80",
   "metadata": {},
   "outputs": [
    {
     "name": "stdout",
     "output_type": "stream",
     "text": [
      "Sum of var3 over its second dimension:\n",
      "[[18 13 24 27 30]\n",
      " [63 66 69 72 75]]\n",
      "Sum of var3 over its second dimension:\n",
      "[[ 15  32  65]\n",
      " [ 90 115 140]]\n",
      "Sum of var3 over its second dimension:\n",
      "[105 147 205]\n"
     ]
    }
   ],
   "source": [
    "# (i) Sum var3 over its second dimension and print the result.\n",
    "sum_var3_over_second_dimension = np.sum(var3, axis=1)\n",
    "print(f'Sum of var3 over its second dimension:\\n{sum_var3_over_second_dimension}')\n",
    "\n",
    "# (ii) Sum var3 over its third dimension and print the result.\n",
    "sum_var3_over_third_dimension = np.sum(var3, axis=2)\n",
    "print(f'Sum of var3 over its second dimension:\\n{sum_var3_over_third_dimension}')\n",
    "\n",
    "# (iii) Sum var3 over both its first and third dimensions and print the result.\n",
    "sum_var3_over_first_and_third_dimension = np.sum(var3, axis=(0,2))\n",
    "print(f'Sum of var3 over its second dimension:\\n{sum_var3_over_first_and_third_dimension}')\n"
   ]
  },
  {
   "cell_type": "markdown",
   "id": "512d893d",
   "metadata": {},
   "source": [
    "Q1 f) Write code to do the following:\n",
    "(i) Slice out the second row of var2 and print it.\n",
    "(ii) Slice out the last column of var2 using the -1 notation and print it.\n",
    "(iii) Slice out the top right 2 × 2 submatrix of var2 and print it."
   ]
  },
  {
   "cell_type": "code",
   "execution_count": 7,
   "id": "224378d9-d645-4930-8efd-f24eb7f1e2f3",
   "metadata": {},
   "outputs": [
    {
     "name": "stdout",
     "output_type": "stream",
     "text": [
      "[[ 1  2  3  4  5  6]\n",
      " [-1  8  9 10 11 12]\n",
      " [13 14 15 16 17 18]\n",
      " [19 20 21 22 23 24]\n",
      " [25 26 27 28 29 30]]\n",
      "Second Row of var2: [-1  8  9 10 11 12]\n",
      "Last Column of var2: [ 6 12 18 24 30]\n",
      "Top Right SubMatrix of var2:\n",
      "[[ 5  6]\n",
      " [11 12]]\n"
     ]
    }
   ],
   "source": [
    "print(var2)\n",
    "# (i) Slice out the second row of var2 and print it.\n",
    "print(f'Second Row of var2: {var2[1,]}')\n",
    "\n",
    "# (ii) Slice out the last column of var2 using the -1 notation and print it.\n",
    "print(f'Last Column of var2: {var2[:,-1]}')\n",
    "\n",
    "# (iii) Slice out the top right 2 × 2 submatrix of var2 and print it.\n",
    "print(f'Top Right SubMatrix of var2:\\n{var2[:2, -2:]}')"
   ]
  },
  {
   "cell_type": "markdown",
   "id": "8703ff52",
   "metadata": {},
   "source": [
    "Q2 a) The most basic kind of broadcast is with a scalar, in which you can perform a\n",
    "binary operation (e.g., add, multiply, ...) on an array and a scalar, the effect is to\n",
    "perform that operation with the scalar for every element of the array. To try this\n",
    "out, create a vector 1, 2, . . . , 10 by adding 1 to the result of the arange function."
   ]
  },
  {
   "cell_type": "code",
   "execution_count": 8,
   "id": "d53eb92d-d060-4cc4-b52f-2cbbdba35b21",
   "metadata": {},
   "outputs": [
    {
     "name": "stdout",
     "output_type": "stream",
     "text": [
      "Vector: [ 1  2  3  4  5  6  7  8  9 10]\n"
     ]
    }
   ],
   "source": [
    "vector = np.arange(10) + 1\n",
    "print(f'Vector: {vector}')"
   ]
  },
  {
   "cell_type": "markdown",
   "id": "e1692056",
   "metadata": {},
   "source": [
    "Q2 b) Now, create a 10 × 10 matrix A in which Ai j = i + j. You’ll be able to do this\n",
    "using the vector you just created, and adding it to a reshaped version of itself."
   ]
  },
  {
   "cell_type": "code",
   "execution_count": 9,
   "id": "ae4e5eb7-6c7e-4a16-9a0d-f0d3bed79ffe",
   "metadata": {},
   "outputs": [
    {
     "name": "stdout",
     "output_type": "stream",
     "text": [
      "10x10 Matrix with Aij = i+j using the above Vector: \n",
      "[[ 2  3  4  5  6  7  8  9 10 11]\n",
      " [ 3  4  5  6  7  8  9 10 11 12]\n",
      " [ 4  5  6  7  8  9 10 11 12 13]\n",
      " [ 5  6  7  8  9 10 11 12 13 14]\n",
      " [ 6  7  8  9 10 11 12 13 14 15]\n",
      " [ 7  8  9 10 11 12 13 14 15 16]\n",
      " [ 8  9 10 11 12 13 14 15 16 17]\n",
      " [ 9 10 11 12 13 14 15 16 17 18]\n",
      " [10 11 12 13 14 15 16 17 18 19]\n",
      " [11 12 13 14 15 16 17 18 19 20]]\n"
     ]
    }
   ],
   "source": [
    "A = vector.reshape(10,1) + vector\n",
    "print(f'10x10 Matrix with Aij = i+j using the above Vector: \\n{A}')"
   ]
  },
  {
   "cell_type": "markdown",
   "id": "dba17d03",
   "metadata": {},
   "source": [
    "Q2 c) A very common use of broadcasting is to standardize data, i.e., to make it have\n",
    "zero mean and unit variance. First, create a fake “data set” with 50 examples,\n",
    "each with five dimensions.\n",
    "import numpy.random as npr\n",
    "data = np.exp(npr.randn ( 50 , 5 ) )"
   ]
  },
  {
   "cell_type": "code",
   "execution_count": 10,
   "id": "47d79340-03de-44eb-9e5b-a72c861e7378",
   "metadata": {},
   "outputs": [
    {
     "name": "stdout",
     "output_type": "stream",
     "text": [
      "Random Data Set of Integers:\n",
      "[[ 1.96094539  5.60220622  0.73901352  0.20309595  0.82663512]\n",
      " [ 1.10038503  0.6084667   0.33264494  0.25019118  1.13154328]\n",
      " [ 0.99006914  0.57640126  0.32843755  2.31113854  0.19028162]\n",
      " [ 0.40124     2.39710318  4.664274    0.62177766  1.72257568]\n",
      " [ 0.74850058  0.71492347  1.98524178  1.51331664  0.92238184]\n",
      " [ 2.83091107  0.56128935  0.75055131  1.63472088  2.03339024]\n",
      " [ 4.36829034  7.10130551 11.92011136  3.23403643  0.27863206]\n",
      " [ 0.14064704  0.84005159  2.20634411  2.01393177  0.98052947]\n",
      " [ 1.2547817   0.21441736  0.79112231  1.65819023  2.26347764]\n",
      " [ 0.89044448  1.54933273  2.00136165  1.86680922  3.00634362]\n",
      " [ 0.67585008  2.63138067  0.7992456   0.56904073  0.14039261]\n",
      " [ 1.44860888  9.90278253  0.47104095  0.43091115  0.36637685]\n",
      " [ 0.65094608  3.33200404  0.68840346  0.76045538  3.97387182]\n",
      " [ 0.37852122  2.91285454  0.4418096   0.73670305  0.09678008]\n",
      " [ 0.73694187  2.80785235  1.55319227  0.18509753  0.64417928]\n",
      " [ 0.1712018   0.49575432  1.51467986  1.04841514  6.0567092 ]\n",
      " [ 1.08092736  0.20092475  3.17810087  1.24750749  0.11696857]\n",
      " [ 1.0176231   2.5375441   1.0945734   5.38855715  0.63163996]\n",
      " [ 0.58897155  1.71882256  0.45681745  0.24057832  0.71098585]\n",
      " [ 1.1775818   1.3418329   0.70778582  4.21497166  1.91205035]\n",
      " [ 1.73992158  1.42768702  0.46248968  1.68661451  1.12396717]\n",
      " [ 0.22936877  2.08166833  1.98075587  6.50282766  0.44226255]\n",
      " [ 0.3298951   0.23629623  2.01028577  2.94862869  0.64807202]\n",
      " [ 0.53589441  5.00060516  3.96772708  0.85579757  1.09065008]\n",
      " [ 1.63200359  0.94022285  1.4487585   3.70491778  0.65822166]\n",
      " [ 1.71568784  2.215171    0.80376709  5.91990075  0.78026597]\n",
      " [ 0.34552587  1.53324046  0.70255242  0.7150228   2.72847209]\n",
      " [ 7.59365725  1.87979401  1.03615118  2.715456    1.54702147]\n",
      " [ 0.53675705  1.48141621  1.26548701  0.71168179  0.95574526]\n",
      " [ 1.0436292   0.34673829  0.95470787  1.96888319  0.75516278]\n",
      " [ 0.68559672  0.86059253  1.02438429  1.24215386  0.82181422]\n",
      " [ 0.31927517  0.66904005  1.60179616  1.03195368  0.41390665]\n",
      " [ 1.8320116   0.40698913  1.91866766  1.04021589  1.16824619]\n",
      " [ 0.49542118  3.40916576  0.47151656  0.52717031  0.91628278]\n",
      " [ 3.39434417  0.89523359  0.46912836  2.45763035  0.29759228]\n",
      " [ 2.10804854  0.58248968  0.83848214  1.49612357  0.78313204]\n",
      " [ 1.75324012  1.32239237  0.76800265  0.76206014  6.45537145]\n",
      " [ 0.39688647  0.64532492  0.71036386  0.83321559  0.27307008]\n",
      " [ 0.41278677  0.56177845  1.83631608  0.25027137  3.90815921]\n",
      " [ 1.14255823  2.69686494  0.15840493  0.33040134  0.75268901]\n",
      " [ 0.2484612   0.53124112  1.31377353  2.66972628  0.46317467]\n",
      " [ 0.34222369  0.34598873  0.32788301  0.76958032  0.81382962]\n",
      " [ 1.15076999  1.01320725  0.40128828  0.94138045  0.25273591]\n",
      " [ 0.69382767  1.43841862  0.81954492  0.61755541  1.23561626]\n",
      " [ 1.45436762  3.65281822  2.64895136  0.47035736  1.05057594]\n",
      " [ 0.57488368  1.5050801   0.09627614  0.99230548  3.99774746]\n",
      " [ 0.44102755  1.03216552  4.25312293  0.266009    0.51834376]\n",
      " [ 0.86692373  0.70564436  1.56759414  0.12493357  0.17827472]\n",
      " [ 1.28446013  0.39495013  1.69825774  1.02297674  0.60096511]\n",
      " [ 0.12458919  1.53146881  1.89479557  2.94199421  5.65276702]]\n"
     ]
    }
   ],
   "source": [
    "data = np.exp(np.random.randn(50, 5))\n",
    "print(f'Random Data Set of Integers:\\n{data}')"
   ]
  },
  {
   "cell_type": "markdown",
   "id": "d15c5f0b",
   "metadata": {},
   "source": [
    "Q2 e) Now, compute the mean and standard deviation of each column. This should\n",
    "result in two vectors of length 5. You’ll need to think a little bit about how to use\n",
    "the axis argument to mean and std. Store these vectors into variables and print\n",
    "both of them."
   ]
  },
  {
   "cell_type": "code",
   "execution_count": 11,
   "id": "79fb276b-6c2e-458a-9e6f-45ecb68ce799",
   "metadata": {},
   "outputs": [
    {
     "name": "stdout",
     "output_type": "stream",
     "text": [
      "Mean: [1.16074865 1.78781888 1.52151969 1.57294383 1.38579761]\n",
      "Standard Deviation: [1.23804146 1.83755778 1.79721669 1.47165816 1.5211793 ]\n"
     ]
    }
   ],
   "source": [
    "mean = np.mean(data, axis=0)\n",
    "standard_deviation = np.std(data, axis=0)\n",
    "print(f'Mean: {mean}\\nStandard Deviation: {standard_deviation}')"
   ]
  },
  {
   "cell_type": "markdown",
   "id": "b294d7d0",
   "metadata": {},
   "source": [
    "Q2 f) Now standardize the data matrix by 1) subtracting the mean off of each column,\n",
    "and 2) dividing each column by its standard deviation. Do this via broadcasting,\n",
    "and store the result in a matrix called normalized. To verify that you successfully\n",
    "did it, compute the mean and standard deviation of\n",
    "the columns of normalized and print them out."
   ]
  },
  {
   "cell_type": "code",
   "execution_count": 12,
   "id": "76a9e062-0e70-4c31-a82e-eb227bf4c626",
   "metadata": {},
   "outputs": [
    {
     "name": "stdout",
     "output_type": "stream",
     "text": [
      "Normalized Matrix: \n",
      "[[ 6.46340825e-01  2.07579178e+00 -4.35398901e-01 -9.30819342e-01\n",
      "  -3.67584867e-01]\n",
      " [-4.87573501e-02 -6.41804132e-01 -6.61508851e-01 -8.98817870e-01\n",
      "  -1.67142906e-01]\n",
      " [-1.37862515e-01 -6.59254162e-01 -6.63849909e-01  5.01607456e-01\n",
      "  -7.85913920e-01]\n",
      " [-6.13475941e-01  3.31572865e-01  1.74867856e+00 -6.46322763e-01\n",
      "   2.21392751e-01]\n",
      " [-3.32984058e-01 -5.83870298e-01  2.58022358e-01 -4.05170133e-02\n",
      "  -3.04642441e-01]\n",
      " [ 1.34903594e+00 -6.67478072e-01 -4.28979088e-01  4.19778507e-02\n",
      "   4.25717482e-01]\n",
      " [ 2.59081928e+00  2.89160247e+00  5.78594206e+00  1.12872176e+00\n",
      "  -7.27833693e-01]\n",
      " [-8.23964016e-01 -5.15775503e-01  3.81047218e-01  2.99653782e-01\n",
      "  -2.66417073e-01]\n",
      " [ 7.59530678e-02 -8.56246011e-01 -4.06404739e-01  5.79254028e-02\n",
      "   5.76973421e-01]\n",
      " [-2.18332083e-01 -1.29784299e-01  2.66991711e-01  1.99683182e-01\n",
      "   1.06532215e+00]\n",
      " [-3.91665861e-01  4.59066809e-01 -4.01884810e-01 -6.82157803e-01\n",
      "  -8.18710191e-01]\n",
      " [ 2.32512595e-01  4.41616788e+00 -5.84503106e-01 -7.76017635e-01\n",
      "  -6.70151609e-01]\n",
      " [-4.11781500e-01  8.40346449e-01 -4.63559143e-01 -5.52090477e-01\n",
      "   1.70136039e+00]\n",
      " [-6.31826525e-01  6.12245054e-01 -6.00767896e-01 -5.68230315e-01\n",
      "  -8.47380404e-01]\n",
      " [-3.42320348e-01  5.55102802e-01  1.76231251e-02 -9.43049370e-01\n",
      "  -4.87528547e-01]\n",
      " [-7.99284102e-01 -7.03142277e-01 -3.80579116e-03 -3.56420201e-01\n",
      "   3.07058581e+00]\n",
      " [-6.44738424e-02 -8.63588697e-01  9.21748157e-01 -2.21135827e-01\n",
      "  -8.34108795e-01]\n",
      " [-1.15606430e-01  4.08000897e-01 -2.37559718e-01  2.59273071e+00\n",
      "  -4.95771704e-01]\n",
      " [-4.61840028e-01 -3.75478362e-02 -5.92417291e-01 -9.05349860e-01\n",
      "  -4.43610928e-01]\n",
      " [ 1.35965959e-02 -2.42705827e-01 -4.52774491e-01  1.79527276e+00\n",
      "   3.45950498e-01]\n",
      " [ 4.67813842e-01 -1.95983966e-01 -5.89261172e-01  7.72398641e-02\n",
      "  -1.72123327e-01]\n",
      " [-7.52301045e-01  1.59913042e-01  2.55526324e-01  3.34988379e+00\n",
      "  -6.20265510e-01]\n",
      " [-6.71103176e-01 -8.44339514e-01  2.71957233e-01  9.34785595e-01\n",
      "  -4.84969517e-01]\n",
      " [-5.04711888e-01  1.74840014e+00  1.36110876e+00 -4.87304921e-01\n",
      "  -1.94025475e-01]\n",
      " [ 3.80645522e-01 -4.61262247e-01 -4.04854842e-02  1.44868829e+00\n",
      "  -4.78297296e-01]\n",
      " [ 4.48239582e-01  2.32565271e-01 -3.99368985e-01  2.95378167e+00\n",
      "  -3.98067235e-01]\n",
      " [-6.58477774e-01 -1.38541721e-01 -4.55686438e-01 -5.82962172e-01\n",
      "   8.82653659e-01]\n",
      " [ 5.19603649e+00  5.00529208e-02 -2.70066770e-01  7.76343443e-01\n",
      "   1.05986095e-01]\n",
      " [-5.04015108e-01 -1.66744509e-01 -1.42460666e-01 -5.85232407e-01\n",
      "  -2.82709835e-01]\n",
      " [-9.46005874e-02 -7.84236883e-01 -3.15383126e-01  2.69043018e-01\n",
      "  -4.14569690e-01]\n",
      " [-3.83793232e-01 -5.04597110e-01 -2.76614058e-01 -2.24773648e-01\n",
      "  -3.70754051e-01]\n",
      " [-6.79681180e-01 -6.08840079e-01  4.46671062e-02 -3.67605851e-01\n",
      "  -6.38906245e-01]\n",
      " [ 5.42197474e-01 -7.51448340e-01  2.20979458e-01 -3.61991638e-01\n",
      "  -1.43014978e-01]\n",
      " [-5.37403228e-01  8.82337901e-01 -5.84238471e-01 -7.10608991e-01\n",
      "  -3.08651867e-01]\n",
      " [ 1.80413628e+00 -4.85745426e-01 -5.85567300e-01  6.01149460e-01\n",
      "  -7.15369532e-01]\n",
      " [ 7.65160070e-01 -6.55940845e-01 -3.80052977e-01 -5.21998022e-02\n",
      "  -3.96183128e-01]\n",
      " [ 4.78571590e-01 -2.53285371e-01 -4.19268887e-01 -5.51000029e-01\n",
      "   3.33266027e+00]\n",
      " [-6.16992412e-01 -6.21745871e-01 -4.51340028e-01 -5.02649505e-01\n",
      "  -7.31490056e-01]\n",
      " [-6.04149302e-01 -6.67211906e-01  1.75157725e-01 -8.98763380e-01\n",
      "   1.65816192e+00]\n",
      " [-1.46929060e-02  4.94703389e-01 -7.58458768e-01 -8.44314613e-01\n",
      "  -4.16195905e-01]\n",
      " [-7.36879566e-01 -6.83830336e-01 -1.15593275e-01  7.45269839e-01\n",
      "  -6.06518203e-01]\n",
      " [-6.61145030e-01 -7.84644796e-01 -6.64158467e-01 -5.45890024e-01\n",
      "  -3.76003005e-01]\n",
      " [-8.06004136e-03 -4.21544091e-01 -6.23314605e-01 -4.29150871e-01\n",
      "  -7.44857425e-01]\n",
      " [-3.77144867e-01 -1.90143823e-01 -3.90589948e-01 -6.49191810e-01\n",
      "  -9.87269252e-02]\n",
      " [ 2.37164083e-01  1.01493371e+00  6.27320940e-01 -7.49213712e-01\n",
      "  -2.20369595e-01]\n",
      " [-4.73219185e-01 -1.53866609e-01 -7.93028216e-01 -3.94547031e-01\n",
      "   1.71705587e+00]\n",
      " [-5.81338446e-01 -4.11226994e-01  1.51990756e+00 -8.88069572e-01\n",
      "  -5.70250891e-01]\n",
      " [-2.37330435e-01 -5.88919996e-01  2.56365592e-02 -9.83931119e-01\n",
      "  -7.93807073e-01]\n",
      " [ 9.99251500e-02 -7.57999973e-01  9.83398684e-02 -3.73705737e-01\n",
      "  -5.15936876e-01]\n",
      " [-8.36934377e-01 -1.39505854e-01  2.07696643e-01  9.30277429e-01\n",
      "   2.80504040e+00]]\n",
      "Mean of normalized data: [ 1.46549439e-16 -4.47974990e-16 -1.44328993e-16  3.35287353e-16\n",
      " -8.88178420e-18]\n",
      "Standard deviation of normalized data: [1. 1. 1. 1. 1.]\n"
     ]
    }
   ],
   "source": [
    "normalized = (data - mean) / standard_deviation\n",
    "print(f'Normalized Matrix: \\n{normalized}')\n",
    "\n",
    "normalized_mean = np.mean(normalized, axis=0)\n",
    "normalized_std = np.std(normalized, axis=0)\n",
    "\n",
    "print(f'Mean of normalized data: {normalized_mean}')\n",
    "print(f'Standard deviation of normalized data: {normalized_std}')"
   ]
  },
  {
   "cell_type": "markdown",
   "id": "55d46d75",
   "metadata": {},
   "source": [
    "Q3 a) A Vandermonde matrix is a matrix generated from a vector in which each column\n",
    "of the matrix is an integer power starting from zero. So, if I have a column vector\n",
    "[x1, x2, . . . , xN]\n",
    "T\n",
    ", then the associated (square) Vandermonde matrix would be\n",
    "\n",
    "Use what you learned about broadcasting in the previous problem to write a\n",
    "function that will produce a Vandermonde matrix for a vector [1, 2, . . . ,N]T\n",
    "for\n",
    "\n",
    "any N. Do it without using a loop. Here’s a stub to get you started:\n",
    "def vandermonde (N):\n",
    "vec = np.arange (N) +1\n",
    "\n",
    "Use your function for N = 12, store it in variable named vander, and print the\n",
    "result."
   ]
  },
  {
   "cell_type": "code",
   "execution_count": 15,
   "id": "22be4a6c-e5b7-41dd-bad3-a24559021967",
   "metadata": {},
   "outputs": [
    {
     "name": "stdout",
     "output_type": "stream",
     "text": [
      "Vandermonde Matrix: \n",
      "[[           1            1            1            1            1            1            1            1            1            1            1            1]\n",
      " [           1            2            4            8           16           32           64          128          256          512         1024         2048]\n",
      " [           1            3            9           27           81          243          729         2187         6561        19683        59049       177147]\n",
      " [           1            4           16           64          256         1024         4096        16384        65536       262144      1048576      4194304]\n",
      " [           1            5           25          125          625         3125        15625        78125       390625      1953125      9765625     48828125]\n",
      " [           1            6           36          216         1296         7776        46656       279936      1679616     10077696     60466176    362797056]\n",
      " [           1            7           49          343         2401        16807       117649       823543      5764801     40353607    282475249   1977326743]\n",
      " [           1            8           64          512         4096        32768       262144      2097152     16777216    134217728   1073741824   8589934592]\n",
      " [           1            9           81          729         6561        59049       531441      4782969     43046721    387420489   3486784401  31381059609]\n",
      " [           1           10          100         1000        10000       100000      1000000     10000000    100000000   1000000000  10000000000 100000000000]\n",
      " [           1           11          121         1331        14641       161051      1771561     19487171    214358881   2357947691  25937424601 285311670611]\n",
      " [           1           12          144         1728        20736       248832      2985984     35831808    429981696   5159780352  61917364224 743008370688]]\n"
     ]
    }
   ],
   "source": [
    "def Vandermonde(N):\n",
    "    base = np.arange(N) + 1\n",
    "    power = np.arange(N)\n",
    "    base = base.reshape(N, 1)\n",
    "\n",
    "    vander_matrix = base ** power\n",
    "    return vander_matrix\n",
    "\n",
    "vander = Vandermonde(12)\n",
    "np.set_printoptions(linewidth=200)\n",
    "print(f'Vandermonde Matrix: \\n{vander}')"
   ]
  },
  {
   "cell_type": "markdown",
   "id": "2adf9ce1",
   "metadata": {},
   "source": [
    "Q3 b) Now, let’s make a pretend linear system problem with this matrix. Create a vector\n",
    "of all ones, of length 12 and call it x. Perform a matrix-vector multiplication of\n",
    "vander with the vector you just created and store that in a new vector and call it b.\n",
    "Print the vector b."
   ]
  },
  {
   "cell_type": "code",
   "execution_count": 16,
   "id": "986a7396-1b0c-49fb-9562-ee5a5c5b01f8",
   "metadata": {},
   "outputs": [
    {
     "name": "stdout",
     "output_type": "stream",
     "text": [
      "Vector of all ones of Length 12: [1. 1. 1. 1. 1. 1. 1. 1. 1. 1. 1. 1.]\n",
      "Matrix-Vector Multiplication result: \n",
      "[1.20000000e+01 4.09500000e+03 2.65720000e+05 5.59240500e+06 6.10351560e+07 4.35356467e+08 2.30688120e+09 9.81706810e+09 3.53036921e+10 1.11111111e+11 3.13842838e+11 8.10554586e+11]\n"
     ]
    }
   ],
   "source": [
    "x = np.ones(12)\n",
    "print(f'Vector of all ones of Length 12: {x}')\n",
    "\n",
    "b = vander @ x # or we can also use the '.dot()' function\n",
    "print(f'Matrix-Vector Multiplication result: \\n{b}')"
   ]
  },
  {
   "cell_type": "markdown",
   "id": "02aeceba",
   "metadata": {},
   "source": [
    "Q3 c) First, solve the linear system the naïve way, pretending like you don’t know x.\n",
    "Import numpy.linalg, invert V and multiply it by b. Print out your result. What\n",
    "should you get for your answer? If the answer is different than what you\n",
    "expected, write a sentence about that difference."
   ]
  },
  {
   "cell_type": "code",
   "execution_count": 17,
   "id": "a68821f4-08e2-4a59-9dea-4d7a7b306ffe",
   "metadata": {},
   "outputs": [
    {
     "name": "stdout",
     "output_type": "stream",
     "text": [
      "Doing it the naïve way we get: \n",
      "[-12.26953125   5.90625     15.421875    -6.03515625   2.05859375   0.92675781   1.00244141   1.00010681   0.99997711   1.00000131   0.99999996   1.        ]\n"
     ]
    }
   ],
   "source": [
    "import numpy.linalg as linalg\n",
    "\n",
    "naïve_way = linalg.inv(vander) @ b\n",
    "print(f'Doing it the naïve way we get: \\n{naïve_way}')\n"
   ]
  },
  {
   "cell_type": "markdown",
   "id": "71873748",
   "metadata": {},
   "source": [
    "Q3 d) Now, solve the same linear system using solve. Print out the result. Does it seem\n",
    "more or less in line with what you’d expect?"
   ]
  },
  {
   "cell_type": "code",
   "execution_count": 18,
   "id": "8bf06c96-62d8-4ef4-bf8e-0896830a346f",
   "metadata": {},
   "outputs": [
    {
     "name": "stdout",
     "output_type": "stream",
     "text": [
      "Using the Solve Function we get: \n",
      "[0.98080503 1.05139768 0.94513807 1.03151945 0.98899166 1.00248816 0.99962407 1.0000384  0.99999737 1.00000012 1.         1.        ]\n"
     ]
    }
   ],
   "source": [
    "\n",
    "using_solve = linalg.solve(vander, b)\n",
    "print(f'Using the Solve Function we get: \\n{using_solve}')"
   ]
  },
  {
   "cell_type": "code",
   "execution_count": 20,
   "id": "a8200e5f-0a6c-43c2-964e-321a1b5b2df3",
   "metadata": {},
   "outputs": [],
   "source": [
    "#https://github.com/RajMoliya/Raj_DSTT_24-27-34"
   ]
  },
  {
   "cell_type": "code",
   "execution_count": null,
   "id": "c88d6a5c",
   "metadata": {},
   "outputs": [],
   "source": []
  }
 ],
 "metadata": {
  "kernelspec": {
   "display_name": "Python 3 (ipykernel)",
   "language": "python",
   "name": "python3"
  },
  "language_info": {
   "codemirror_mode": {
    "name": "ipython",
    "version": 3
   },
   "file_extension": ".py",
   "mimetype": "text/x-python",
   "name": "python",
   "nbconvert_exporter": "python",
   "pygments_lexer": "ipython3",
   "version": "3.12.4"
  }
 },
 "nbformat": 4,
 "nbformat_minor": 5
}
